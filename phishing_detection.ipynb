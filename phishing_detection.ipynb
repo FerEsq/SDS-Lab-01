{
 "cells": [
  {
   "cell_type": "markdown",
   "metadata": {},
   "source": [
    "### Lab 1. Detección de Pishing\n",
    "\n",
    "#### Miembros\n",
    "- Fernanda Esquivel - 21542\n",
    "- Andrés Montoya - 21552\n",
    "\n",
    "#### Link al repositorio\n",
    "El repositorio puede ser visualizado [acá](https://github.com/FerEsq/SDS-Lab-01)"
   ]
  },
  {
   "cell_type": "markdown",
   "metadata": {},
   "source": [
    "# Parte 1: Ingeniería de características"
   ]
  },
  {
   "cell_type": "code",
   "execution_count": 182,
   "metadata": {},
   "outputs": [],
   "source": [
    "import pandas as pd\n",
    "import math\n",
    "from urllib.parse import urlparse\n",
    "import re\n",
    "from sklearn.model_selection import train_test_split"
   ]
  },
  {
   "cell_type": "markdown",
   "metadata": {},
   "source": [
    "## Exploración de datos"
   ]
  },
  {
   "cell_type": "code",
   "execution_count": 183,
   "metadata": {},
   "outputs": [],
   "source": [
    "df = pd.read_csv('data/dataset_pishing.csv')"
   ]
  },
  {
   "cell_type": "code",
   "execution_count": 184,
   "metadata": {},
   "outputs": [
    {
     "data": {
      "text/html": [
       "<div>\n",
       "<style scoped>\n",
       "    .dataframe tbody tr th:only-of-type {\n",
       "        vertical-align: middle;\n",
       "    }\n",
       "\n",
       "    .dataframe tbody tr th {\n",
       "        vertical-align: top;\n",
       "    }\n",
       "\n",
       "    .dataframe thead th {\n",
       "        text-align: right;\n",
       "    }\n",
       "</style>\n",
       "<table border=\"1\" class=\"dataframe\">\n",
       "  <thead>\n",
       "    <tr style=\"text-align: right;\">\n",
       "      <th></th>\n",
       "      <th>url</th>\n",
       "      <th>status</th>\n",
       "    </tr>\n",
       "  </thead>\n",
       "  <tbody>\n",
       "    <tr>\n",
       "      <th>0</th>\n",
       "      <td>http://www.crestonwood.com/router.php</td>\n",
       "      <td>legitimate</td>\n",
       "    </tr>\n",
       "    <tr>\n",
       "      <th>1</th>\n",
       "      <td>http://shadetreetechnology.com/V4/validation/a...</td>\n",
       "      <td>phishing</td>\n",
       "    </tr>\n",
       "    <tr>\n",
       "      <th>2</th>\n",
       "      <td>https://support-appleld.com.secureupdate.duila...</td>\n",
       "      <td>phishing</td>\n",
       "    </tr>\n",
       "    <tr>\n",
       "      <th>3</th>\n",
       "      <td>http://rgipt.ac.in</td>\n",
       "      <td>legitimate</td>\n",
       "    </tr>\n",
       "    <tr>\n",
       "      <th>4</th>\n",
       "      <td>http://www.iracing.com/tracks/gateway-motorspo...</td>\n",
       "      <td>legitimate</td>\n",
       "    </tr>\n",
       "  </tbody>\n",
       "</table>\n",
       "</div>"
      ],
      "text/plain": [
       "                                                 url      status\n",
       "0              http://www.crestonwood.com/router.php  legitimate\n",
       "1  http://shadetreetechnology.com/V4/validation/a...    phishing\n",
       "2  https://support-appleld.com.secureupdate.duila...    phishing\n",
       "3                                 http://rgipt.ac.in  legitimate\n",
       "4  http://www.iracing.com/tracks/gateway-motorspo...  legitimate"
      ]
     },
     "execution_count": 184,
     "metadata": {},
     "output_type": "execute_result"
    }
   ],
   "source": [
    "# 5 entries\n",
    "df.head(5)"
   ]
  },
  {
   "cell_type": "code",
   "execution_count": 185,
   "metadata": {},
   "outputs": [
    {
     "data": {
      "text/plain": [
       "status\n",
       "legitimate    5715\n",
       "phishing      5715\n",
       "Name: count, dtype: int64"
      ]
     },
     "execution_count": 185,
     "metadata": {},
     "output_type": "execute_result"
    }
   ],
   "source": [
    "# count of legit and phishing\n",
    "df['status'].value_counts()"
   ]
  },
  {
   "cell_type": "markdown",
   "metadata": {},
   "source": [
    "El dataset está balanceado. "
   ]
  },
  {
   "cell_type": "markdown",
   "metadata": {},
   "source": [
    "1. **¿Qué ventajas tiene el análisis de una URL contra el análisis de otros datos, cómo el tiempo de vida del dominio, o las características de la página Web?**\n",
    "Analizar las url tiene muchas ventajas, entre ellas:\n",
    "- Evita la descarga del sitio, el cual podría contener código malicioso.\n",
    "- Es mucho más rapida al detectar en tiempo real.\n",
    "- Es computacionalmente más eficaz ya que solo se deben procesar strings cortos.\n",
    "2. **¿Qué características de una URL son más prometedoras para la detección de phishing?**\n",
    "- Longitud de la url completa\n",
    "- Longitud del dominio\n",
    "- Cantidad de subdominios\n",
    "- Cantidad o presencia de caracteres especiales\n",
    "- Cantidad de números\n",
    "- Cantidad de letras\n",
    "- Protocolo\n",
    "- Cantidad de directorios\n",
    "- Presencia de parámetros\n",
    "- Cantidad de párametros\n",
    "- IP en la url\n",
    "- TDL\n",
    "- Identificación de redireccónes (posee más de una url)\n",
    "- Presencia de credenciales en la url (correo)\n",
    "- Entropía"
   ]
  },
  {
   "cell_type": "markdown",
   "metadata": {},
   "source": [
    "## Derivación de características"
   ]
  },
  {
   "cell_type": "code",
   "execution_count": 186,
   "metadata": {},
   "outputs": [],
   "source": [
    "# get the url length\n",
    "df['url_length'] = df['url'].apply(lambda x: len(x))"
   ]
  },
  {
   "cell_type": "code",
   "execution_count": 187,
   "metadata": {},
   "outputs": [],
   "source": [
    "# get the domain length\n",
    "df['domain_length'] = df['url'].apply(lambda x: len(x.split('/')[2]))"
   ]
  },
  {
   "cell_type": "code",
   "execution_count": 188,
   "metadata": {},
   "outputs": [],
   "source": [
    "# get protocol\n",
    "df['protocol'] = df['url'].apply(lambda x: x.split(':')[0])"
   ]
  },
  {
   "cell_type": "code",
   "execution_count": 189,
   "metadata": {},
   "outputs": [],
   "source": [
    "# get the number of subdomains\n",
    "df['subdomains'] = df['url'].apply(lambda x: len(x.split('/')[2].split('.')) - 2)"
   ]
  },
  {
   "cell_type": "code",
   "execution_count": 190,
   "metadata": {},
   "outputs": [],
   "source": [
    "# get if the url has a special characters\n",
    "special_characters = ['@', '-', '_', '%', '?', '=', '&', '.']\n",
    "df['special_characters'] = df['url'].apply(lambda x: 1 if any(c in x for c in special_characters) else 0)"
   ]
  },
  {
   "cell_type": "code",
   "execution_count": 191,
   "metadata": {},
   "outputs": [],
   "source": [
    "# get the number of special characters\n",
    "df['special_characters_count'] = df['url'].apply(lambda x: sum(1 for c in x if c in special_characters))"
   ]
  },
  {
   "cell_type": "code",
   "execution_count": 192,
   "metadata": {},
   "outputs": [],
   "source": [
    "# get the number of digits\n",
    "df['digits'] = df['url'].apply(lambda x: sum(c.isdigit() for c in x))"
   ]
  },
  {
   "cell_type": "code",
   "execution_count": 193,
   "metadata": {},
   "outputs": [],
   "source": [
    "# get the number of letters\n",
    "df['letters'] = df['url'].apply(lambda x: sum(c.isalpha() for c in x))"
   ]
  },
  {
   "cell_type": "code",
   "execution_count": 194,
   "metadata": {},
   "outputs": [],
   "source": [
    "# get the number of directories, \n",
    "def get_directories(url: str):\n",
    "    domain_and_directories = url.split('://', 1)[1].split('?')[0]\n",
    "    directories = domain_and_directories.split('/')[1:]\n",
    "    cleaned_directories = [d for d in directories if d != '']\n",
    "    return cleaned_directories"
   ]
  },
  {
   "cell_type": "code",
   "execution_count": 195,
   "metadata": {},
   "outputs": [],
   "source": [
    "def has_file_extension(url):\n",
    "    dirs = get_directories(url)\n",
    "    return any('.' in d for d in dirs)"
   ]
  },
  {
   "cell_type": "code",
   "execution_count": 196,
   "metadata": {},
   "outputs": [],
   "source": [
    "# get if the url has a file extension\n",
    "df['has_file_extension'] = df['url'].apply(lambda x: 1 if has_file_extension(x) else 0)"
   ]
  },
  {
   "cell_type": "code",
   "execution_count": 197,
   "metadata": {},
   "outputs": [],
   "source": [
    "def count_file_extensions(url):\n",
    "    dirs = get_directories(url)\n",
    "    return sum(1 for dir in dirs if '.' in dir)"
   ]
  },
  {
   "cell_type": "code",
   "execution_count": 198,
   "metadata": {},
   "outputs": [],
   "source": [
    "# get the number of file extensions\n",
    "df['file_extension_count'] = df['url'].apply(count_file_extensions)"
   ]
  },
  {
   "cell_type": "code",
   "execution_count": 199,
   "metadata": {},
   "outputs": [],
   "source": [
    "#cantidad de directorios\n",
    "df['directories_count'] = df['url'].apply(lambda x: len(get_directories(x)))"
   ]
  },
  {
   "cell_type": "code",
   "execution_count": 200,
   "metadata": {},
   "outputs": [],
   "source": [
    "#si hay y cantidad de parámetros\n",
    "df['has_parameters'] = df['url'].apply(lambda x: 1 if '?' in x else 0)\n",
    "df['parameters_count'] = df['url'].apply(lambda x: x.count('&') + 1 if '?' in x else 0)"
   ]
  },
  {
   "cell_type": "code",
   "execution_count": 201,
   "metadata": {},
   "outputs": [],
   "source": [
    "#encontrar IP en la url\n",
    "def has_ip(url):\n",
    "    # Patrón para IPv4\n",
    "    pattern = r'(?:(?:25[0-5]|2[0-4][0-9]|[01]?[0-9][0-9]?)\\.){3}(?:25[0-5]|2[0-4][0-9]|[01]?[0-9][0-9]?)'\n",
    "    return 1 if re.search(pattern, url) else 0"
   ]
  },
  {
   "cell_type": "code",
   "execution_count": 202,
   "metadata": {},
   "outputs": [],
   "source": [
    "df['has_ip'] = df['url'].apply(has_ip)"
   ]
  },
  {
   "cell_type": "code",
   "execution_count": 203,
   "metadata": {},
   "outputs": [],
   "source": [
    "#encontrar TLD\n",
    "def get_tld(url):\n",
    "    domain = url.split('/')[2]\n",
    "    return domain.split('.')[-1]"
   ]
  },
  {
   "cell_type": "code",
   "execution_count": 204,
   "metadata": {},
   "outputs": [],
   "source": [
    "df['tld'] = df['url'].apply(get_tld)"
   ]
  },
  {
   "cell_type": "code",
   "execution_count": 205,
   "metadata": {},
   "outputs": [],
   "source": [
    "#encontrar si hay redirecciones\n",
    "df['has_multiple_urls'] = df['url'].apply(lambda x: 1 if x.count('//') > 1 else 0)"
   ]
  },
  {
   "cell_type": "code",
   "execution_count": 206,
   "metadata": {},
   "outputs": [],
   "source": [
    "#encontrar si hay credenciales\n",
    "def has_credentials(url):\n",
    "    #buscar @ antes del dominio o patrones de email\n",
    "    has_at = '@' in urlparse(url).netloc\n",
    "    email_pattern = r'[a-zA-Z0-9._%+-]+@[a-zA-Z0-9.-]+\\.[a-zA-Z]{2,}'\n",
    "    has_email = bool(re.search(email_pattern, url))\n",
    "    return 1 if (has_at or has_email) else 0"
   ]
  },
  {
   "cell_type": "code",
   "execution_count": 207,
   "metadata": {},
   "outputs": [],
   "source": [
    "df['has_credentials'] = df['url'].apply(has_credentials)"
   ]
  },
  {
   "cell_type": "code",
   "execution_count": 208,
   "metadata": {},
   "outputs": [],
   "source": [
    "#obtener entropía\n",
    "def calculate_entropy(url):\n",
    "    #calcular frecuencia de cada carácter\n",
    "    char_freq = {}\n",
    "    for char in url:\n",
    "        char_freq[char] = char_freq.get(char, 0) + 1\n",
    "    \n",
    "    #calcular entropía\n",
    "    entropy = 0\n",
    "    length = len(url)\n",
    "    for freq in char_freq.values():\n",
    "        probability = freq / length\n",
    "        entropy -= probability * math.log2(probability)\n",
    "    return entropy"
   ]
  },
  {
   "cell_type": "code",
   "execution_count": 209,
   "metadata": {},
   "outputs": [],
   "source": [
    "df['entropy'] = df['url'].apply(calculate_entropy)"
   ]
  },
  {
   "cell_type": "code",
   "execution_count": 210,
   "metadata": {},
   "outputs": [
    {
     "data": {
      "text/html": [
       "<div>\n",
       "<style scoped>\n",
       "    .dataframe tbody tr th:only-of-type {\n",
       "        vertical-align: middle;\n",
       "    }\n",
       "\n",
       "    .dataframe tbody tr th {\n",
       "        vertical-align: top;\n",
       "    }\n",
       "\n",
       "    .dataframe thead th {\n",
       "        text-align: right;\n",
       "    }\n",
       "</style>\n",
       "<table border=\"1\" class=\"dataframe\">\n",
       "  <thead>\n",
       "    <tr style=\"text-align: right;\">\n",
       "      <th></th>\n",
       "      <th>url</th>\n",
       "      <th>status</th>\n",
       "      <th>url_length</th>\n",
       "      <th>domain_length</th>\n",
       "      <th>protocol</th>\n",
       "      <th>subdomains</th>\n",
       "      <th>special_characters</th>\n",
       "      <th>special_characters_count</th>\n",
       "      <th>digits</th>\n",
       "      <th>letters</th>\n",
       "      <th>has_file_extension</th>\n",
       "      <th>file_extension_count</th>\n",
       "      <th>directories_count</th>\n",
       "      <th>has_parameters</th>\n",
       "      <th>parameters_count</th>\n",
       "      <th>has_ip</th>\n",
       "      <th>tld</th>\n",
       "      <th>has_multiple_urls</th>\n",
       "      <th>has_credentials</th>\n",
       "      <th>entropy</th>\n",
       "    </tr>\n",
       "  </thead>\n",
       "  <tbody>\n",
       "    <tr>\n",
       "      <th>0</th>\n",
       "      <td>http://www.crestonwood.com/router.php</td>\n",
       "      <td>legitimate</td>\n",
       "      <td>37</td>\n",
       "      <td>19</td>\n",
       "      <td>http</td>\n",
       "      <td>1</td>\n",
       "      <td>1</td>\n",
       "      <td>3</td>\n",
       "      <td>0</td>\n",
       "      <td>30</td>\n",
       "      <td>1</td>\n",
       "      <td>1</td>\n",
       "      <td>1</td>\n",
       "      <td>0</td>\n",
       "      <td>0</td>\n",
       "      <td>0</td>\n",
       "      <td>com</td>\n",
       "      <td>0</td>\n",
       "      <td>0</td>\n",
       "      <td>3.787043</td>\n",
       "    </tr>\n",
       "    <tr>\n",
       "      <th>1</th>\n",
       "      <td>http://shadetreetechnology.com/V4/validation/a...</td>\n",
       "      <td>phishing</td>\n",
       "      <td>77</td>\n",
       "      <td>23</td>\n",
       "      <td>http</td>\n",
       "      <td>0</td>\n",
       "      <td>1</td>\n",
       "      <td>1</td>\n",
       "      <td>17</td>\n",
       "      <td>53</td>\n",
       "      <td>0</td>\n",
       "      <td>0</td>\n",
       "      <td>3</td>\n",
       "      <td>0</td>\n",
       "      <td>0</td>\n",
       "      <td>0</td>\n",
       "      <td>com</td>\n",
       "      <td>0</td>\n",
       "      <td>0</td>\n",
       "      <td>4.419864</td>\n",
       "    </tr>\n",
       "    <tr>\n",
       "      <th>2</th>\n",
       "      <td>https://support-appleld.com.secureupdate.duila...</td>\n",
       "      <td>phishing</td>\n",
       "      <td>126</td>\n",
       "      <td>50</td>\n",
       "      <td>https</td>\n",
       "      <td>3</td>\n",
       "      <td>1</td>\n",
       "      <td>13</td>\n",
       "      <td>19</td>\n",
       "      <td>88</td>\n",
       "      <td>0</td>\n",
       "      <td>0</td>\n",
       "      <td>2</td>\n",
       "      <td>1</td>\n",
       "      <td>3</td>\n",
       "      <td>0</td>\n",
       "      <td>com</td>\n",
       "      <td>0</td>\n",
       "      <td>0</td>\n",
       "      <td>4.753412</td>\n",
       "    </tr>\n",
       "    <tr>\n",
       "      <th>3</th>\n",
       "      <td>http://rgipt.ac.in</td>\n",
       "      <td>legitimate</td>\n",
       "      <td>18</td>\n",
       "      <td>11</td>\n",
       "      <td>http</td>\n",
       "      <td>1</td>\n",
       "      <td>1</td>\n",
       "      <td>2</td>\n",
       "      <td>0</td>\n",
       "      <td>13</td>\n",
       "      <td>0</td>\n",
       "      <td>0</td>\n",
       "      <td>0</td>\n",
       "      <td>0</td>\n",
       "      <td>0</td>\n",
       "      <td>0</td>\n",
       "      <td>in</td>\n",
       "      <td>0</td>\n",
       "      <td>0</td>\n",
       "      <td>3.461320</td>\n",
       "    </tr>\n",
       "    <tr>\n",
       "      <th>4</th>\n",
       "      <td>http://www.iracing.com/tracks/gateway-motorspo...</td>\n",
       "      <td>legitimate</td>\n",
       "      <td>55</td>\n",
       "      <td>15</td>\n",
       "      <td>http</td>\n",
       "      <td>1</td>\n",
       "      <td>1</td>\n",
       "      <td>4</td>\n",
       "      <td>0</td>\n",
       "      <td>45</td>\n",
       "      <td>0</td>\n",
       "      <td>0</td>\n",
       "      <td>2</td>\n",
       "      <td>0</td>\n",
       "      <td>0</td>\n",
       "      <td>0</td>\n",
       "      <td>com</td>\n",
       "      <td>0</td>\n",
       "      <td>0</td>\n",
       "      <td>4.097662</td>\n",
       "    </tr>\n",
       "  </tbody>\n",
       "</table>\n",
       "</div>"
      ],
      "text/plain": [
       "                                                 url      status  url_length  \\\n",
       "0              http://www.crestonwood.com/router.php  legitimate          37   \n",
       "1  http://shadetreetechnology.com/V4/validation/a...    phishing          77   \n",
       "2  https://support-appleld.com.secureupdate.duila...    phishing         126   \n",
       "3                                 http://rgipt.ac.in  legitimate          18   \n",
       "4  http://www.iracing.com/tracks/gateway-motorspo...  legitimate          55   \n",
       "\n",
       "   domain_length protocol  subdomains  special_characters  \\\n",
       "0             19     http           1                   1   \n",
       "1             23     http           0                   1   \n",
       "2             50    https           3                   1   \n",
       "3             11     http           1                   1   \n",
       "4             15     http           1                   1   \n",
       "\n",
       "   special_characters_count  digits  letters  has_file_extension  \\\n",
       "0                         3       0       30                   1   \n",
       "1                         1      17       53                   0   \n",
       "2                        13      19       88                   0   \n",
       "3                         2       0       13                   0   \n",
       "4                         4       0       45                   0   \n",
       "\n",
       "   file_extension_count  directories_count  has_parameters  parameters_count  \\\n",
       "0                     1                  1               0                 0   \n",
       "1                     0                  3               0                 0   \n",
       "2                     0                  2               1                 3   \n",
       "3                     0                  0               0                 0   \n",
       "4                     0                  2               0                 0   \n",
       "\n",
       "   has_ip  tld  has_multiple_urls  has_credentials   entropy  \n",
       "0       0  com                  0                0  3.787043  \n",
       "1       0  com                  0                0  4.419864  \n",
       "2       0  com                  0                0  4.753412  \n",
       "3       0   in                  0                0  3.461320  \n",
       "4       0  com                  0                0  4.097662  "
      ]
     },
     "execution_count": 210,
     "metadata": {},
     "output_type": "execute_result"
    }
   ],
   "source": [
    "#mostrar primeras 5 lineas del dataset para visualizar los cambios\n",
    "df.head(5)"
   ]
  },
  {
   "cell_type": "code",
   "execution_count": 211,
   "metadata": {},
   "outputs": [],
   "source": [
    "#guardar el dataset actualizado\n",
    "df.to_csv('data/dataset_phishing_features.csv', index=False)"
   ]
  },
  {
   "cell_type": "markdown",
   "metadata": {},
   "source": [
    "## Preprocesamiento"
   ]
  },
  {
   "cell_type": "code",
   "execution_count": 212,
   "metadata": {},
   "outputs": [],
   "source": [
    "#legitimate = 0, phishing = 1\n",
    "df['status'] = (df['status'] == 'phishing').astype(int)"
   ]
  },
  {
   "cell_type": "code",
   "execution_count": 213,
   "metadata": {},
   "outputs": [
    {
     "data": {
      "text/html": [
       "<div>\n",
       "<style scoped>\n",
       "    .dataframe tbody tr th:only-of-type {\n",
       "        vertical-align: middle;\n",
       "    }\n",
       "\n",
       "    .dataframe tbody tr th {\n",
       "        vertical-align: top;\n",
       "    }\n",
       "\n",
       "    .dataframe thead th {\n",
       "        text-align: right;\n",
       "    }\n",
       "</style>\n",
       "<table border=\"1\" class=\"dataframe\">\n",
       "  <thead>\n",
       "    <tr style=\"text-align: right;\">\n",
       "      <th></th>\n",
       "      <th>url</th>\n",
       "      <th>status</th>\n",
       "      <th>url_length</th>\n",
       "      <th>domain_length</th>\n",
       "      <th>protocol</th>\n",
       "      <th>subdomains</th>\n",
       "      <th>special_characters</th>\n",
       "      <th>special_characters_count</th>\n",
       "      <th>digits</th>\n",
       "      <th>letters</th>\n",
       "      <th>has_file_extension</th>\n",
       "      <th>file_extension_count</th>\n",
       "      <th>directories_count</th>\n",
       "      <th>has_parameters</th>\n",
       "      <th>parameters_count</th>\n",
       "      <th>has_ip</th>\n",
       "      <th>tld</th>\n",
       "      <th>has_multiple_urls</th>\n",
       "      <th>has_credentials</th>\n",
       "      <th>entropy</th>\n",
       "    </tr>\n",
       "  </thead>\n",
       "  <tbody>\n",
       "    <tr>\n",
       "      <th>0</th>\n",
       "      <td>http://www.crestonwood.com/router.php</td>\n",
       "      <td>0</td>\n",
       "      <td>37</td>\n",
       "      <td>19</td>\n",
       "      <td>http</td>\n",
       "      <td>1</td>\n",
       "      <td>1</td>\n",
       "      <td>3</td>\n",
       "      <td>0</td>\n",
       "      <td>30</td>\n",
       "      <td>1</td>\n",
       "      <td>1</td>\n",
       "      <td>1</td>\n",
       "      <td>0</td>\n",
       "      <td>0</td>\n",
       "      <td>0</td>\n",
       "      <td>com</td>\n",
       "      <td>0</td>\n",
       "      <td>0</td>\n",
       "      <td>3.787043</td>\n",
       "    </tr>\n",
       "    <tr>\n",
       "      <th>1</th>\n",
       "      <td>http://shadetreetechnology.com/V4/validation/a...</td>\n",
       "      <td>1</td>\n",
       "      <td>77</td>\n",
       "      <td>23</td>\n",
       "      <td>http</td>\n",
       "      <td>0</td>\n",
       "      <td>1</td>\n",
       "      <td>1</td>\n",
       "      <td>17</td>\n",
       "      <td>53</td>\n",
       "      <td>0</td>\n",
       "      <td>0</td>\n",
       "      <td>3</td>\n",
       "      <td>0</td>\n",
       "      <td>0</td>\n",
       "      <td>0</td>\n",
       "      <td>com</td>\n",
       "      <td>0</td>\n",
       "      <td>0</td>\n",
       "      <td>4.419864</td>\n",
       "    </tr>\n",
       "    <tr>\n",
       "      <th>2</th>\n",
       "      <td>https://support-appleld.com.secureupdate.duila...</td>\n",
       "      <td>1</td>\n",
       "      <td>126</td>\n",
       "      <td>50</td>\n",
       "      <td>https</td>\n",
       "      <td>3</td>\n",
       "      <td>1</td>\n",
       "      <td>13</td>\n",
       "      <td>19</td>\n",
       "      <td>88</td>\n",
       "      <td>0</td>\n",
       "      <td>0</td>\n",
       "      <td>2</td>\n",
       "      <td>1</td>\n",
       "      <td>3</td>\n",
       "      <td>0</td>\n",
       "      <td>com</td>\n",
       "      <td>0</td>\n",
       "      <td>0</td>\n",
       "      <td>4.753412</td>\n",
       "    </tr>\n",
       "    <tr>\n",
       "      <th>3</th>\n",
       "      <td>http://rgipt.ac.in</td>\n",
       "      <td>0</td>\n",
       "      <td>18</td>\n",
       "      <td>11</td>\n",
       "      <td>http</td>\n",
       "      <td>1</td>\n",
       "      <td>1</td>\n",
       "      <td>2</td>\n",
       "      <td>0</td>\n",
       "      <td>13</td>\n",
       "      <td>0</td>\n",
       "      <td>0</td>\n",
       "      <td>0</td>\n",
       "      <td>0</td>\n",
       "      <td>0</td>\n",
       "      <td>0</td>\n",
       "      <td>in</td>\n",
       "      <td>0</td>\n",
       "      <td>0</td>\n",
       "      <td>3.461320</td>\n",
       "    </tr>\n",
       "    <tr>\n",
       "      <th>4</th>\n",
       "      <td>http://www.iracing.com/tracks/gateway-motorspo...</td>\n",
       "      <td>0</td>\n",
       "      <td>55</td>\n",
       "      <td>15</td>\n",
       "      <td>http</td>\n",
       "      <td>1</td>\n",
       "      <td>1</td>\n",
       "      <td>4</td>\n",
       "      <td>0</td>\n",
       "      <td>45</td>\n",
       "      <td>0</td>\n",
       "      <td>0</td>\n",
       "      <td>2</td>\n",
       "      <td>0</td>\n",
       "      <td>0</td>\n",
       "      <td>0</td>\n",
       "      <td>com</td>\n",
       "      <td>0</td>\n",
       "      <td>0</td>\n",
       "      <td>4.097662</td>\n",
       "    </tr>\n",
       "  </tbody>\n",
       "</table>\n",
       "</div>"
      ],
      "text/plain": [
       "                                                 url  status  url_length  \\\n",
       "0              http://www.crestonwood.com/router.php       0          37   \n",
       "1  http://shadetreetechnology.com/V4/validation/a...       1          77   \n",
       "2  https://support-appleld.com.secureupdate.duila...       1         126   \n",
       "3                                 http://rgipt.ac.in       0          18   \n",
       "4  http://www.iracing.com/tracks/gateway-motorspo...       0          55   \n",
       "\n",
       "   domain_length protocol  subdomains  special_characters  \\\n",
       "0             19     http           1                   1   \n",
       "1             23     http           0                   1   \n",
       "2             50    https           3                   1   \n",
       "3             11     http           1                   1   \n",
       "4             15     http           1                   1   \n",
       "\n",
       "   special_characters_count  digits  letters  has_file_extension  \\\n",
       "0                         3       0       30                   1   \n",
       "1                         1      17       53                   0   \n",
       "2                        13      19       88                   0   \n",
       "3                         2       0       13                   0   \n",
       "4                         4       0       45                   0   \n",
       "\n",
       "   file_extension_count  directories_count  has_parameters  parameters_count  \\\n",
       "0                     1                  1               0                 0   \n",
       "1                     0                  3               0                 0   \n",
       "2                     0                  2               1                 3   \n",
       "3                     0                  0               0                 0   \n",
       "4                     0                  2               0                 0   \n",
       "\n",
       "   has_ip  tld  has_multiple_urls  has_credentials   entropy  \n",
       "0       0  com                  0                0  3.787043  \n",
       "1       0  com                  0                0  4.419864  \n",
       "2       0  com                  0                0  4.753412  \n",
       "3       0   in                  0                0  3.461320  \n",
       "4       0  com                  0                0  4.097662  "
      ]
     },
     "execution_count": 213,
     "metadata": {},
     "output_type": "execute_result"
    }
   ],
   "source": [
    "#mostrar primeras 5 lineas del dataset para visualizar los cambios\n",
    "df.head(5)"
   ]
  },
  {
   "cell_type": "code",
   "execution_count": 214,
   "metadata": {},
   "outputs": [],
   "source": [
    "#guardar el dataset actualizado\n",
    "df.to_csv('data/dataset_phishing_features.csv', index=False)"
   ]
  },
  {
   "cell_type": "markdown",
   "metadata": {},
   "source": [
    "## Selección de Características"
   ]
  },
  {
   "cell_type": "code",
   "execution_count": 216,
   "metadata": {},
   "outputs": [],
   "source": [
    "#elegir las características relevantes\n",
    "selected_features = [\n",
    "    'url',  #mantenemos la URL para referencia\n",
    "    'status',  #variable objetivo\n",
    "    'url_length',\n",
    "    'domain_length',\n",
    "    'protocol',\n",
    "    'subdomains',\n",
    "    'special_characters_count',\n",
    "    'digits',\n",
    "    'letters',\n",
    "    'directories_count',\n",
    "    'parameters_count',\n",
    "    'has_ip',\n",
    "    'tld',\n",
    "    'has_multiple_urls',\n",
    "    'has_credentials',\n",
    "    'entropy'\n",
    "]"
   ]
  },
  {
   "cell_type": "code",
   "execution_count": 217,
   "metadata": {},
   "outputs": [],
   "source": [
    "#crear el nuevo dataset con las características seleccionadas\n",
    "df_clean = df[selected_features]"
   ]
  },
  {
   "cell_type": "code",
   "execution_count": 218,
   "metadata": {},
   "outputs": [],
   "source": [
    "#guardar el dataset limpio\n",
    "df_clean.to_csv('data/dataset_phishing_features_clean.csv', index=False)"
   ]
  },
  {
   "cell_type": "markdown",
   "metadata": {},
   "source": [
    "3. **¿Qué columnas o características fueron seleccionadas y por qué?**\n",
    "* Medidas de longitud (url_length, domain_length): estas identifican URLs sospechosamente largas\n",
    "* Características de dominio (protocol, subdomains, tld): estas analizan la estructura y seguridad del dominio\n",
    "* Características de composición (special_characters_count, digits, letters): estas examinan los patrones de caracteres utilizados\n",
    "* Características de estructura (directories_count, parameters_count): estas evalúan la complejidad de la URL\n",
    "* Indicadores de seguridad (has_ip, has_multiple_urls, has_credentials): estas detectan prácticas sospechosas como el uso de IPs directas o redirecciones;\n",
    "* Entroía: esta mide la aleatoriedad en la URL\n",
    "\n",
    "\n",
    "Se eliminaron características redundantes como special_characters, has_parameters y has_file_extension, ya que sus versiones de conteo proporcionan información más detallada, resultando en un conjunto de características optimizado para identificar URLs maliciosas."
   ]
  },
  {
   "cell_type": "markdown",
   "metadata": {},
   "source": [
    "# Parte 2: Implementación"
   ]
  },
  {
   "cell_type": "markdown",
   "metadata": {},
   "source": [
    "## Separación de datos"
   ]
  },
  {
   "cell_type": "code",
   "execution_count": 219,
   "metadata": {},
   "outputs": [],
   "source": [
    "#leer el dataset limpio\n",
    "df = pd.read_csv('data/dataset_phishing_features_clean.csv')\n"
   ]
  },
  {
   "cell_type": "code",
   "execution_count": 220,
   "metadata": {},
   "outputs": [],
   "source": [
    "#separar los datos de prueba (30%)\n",
    "train_val_data, test_data = train_test_split(df, test_size=0.30, random_state=42, stratify=df['status'])"
   ]
  },
  {
   "cell_type": "code",
   "execution_count": 221,
   "metadata": {},
   "outputs": [],
   "source": [
    "#separar entrenamiento (55%) y validación (15%)\n",
    "train_data, val_data = train_test_split(train_val_data, test_size=0.214, random_state=42, stratify=train_val_data['status'])"
   ]
  },
  {
   "cell_type": "code",
   "execution_count": 222,
   "metadata": {},
   "outputs": [],
   "source": [
    "#guardar los datasets\n",
    "train_data.to_csv('data/models/train_data.csv', index=False)\n",
    "val_data.to_csv('data/models/val_data.csv', index=False)\n",
    "test_data.to_csv('data/models/test_data.csv', index=False)"
   ]
  },
  {
   "cell_type": "code",
   "execution_count": 223,
   "metadata": {},
   "outputs": [
    {
     "name": "stdout",
     "output_type": "stream",
     "text": [
      "Tamaño total del dataset: 11429\n",
      "Tamaño del conjunto de entrenamiento: 6288 (55.0%)\n",
      "Tamaño del conjunto de validación: 1712 (15.0%)\n",
      "Tamaño del conjunto de prueba: 3429 (30.0%)\n"
     ]
    }
   ],
   "source": [
    "#verificar los tamaños de los conjuntos\n",
    "print(f\"Tamaño total del dataset: {len(df)}\")\n",
    "print(f\"Tamaño del conjunto de entrenamiento: {len(train_data)} ({len(train_data)/len(df)*100:.1f}%)\")\n",
    "print(f\"Tamaño del conjunto de validación: {len(val_data)} ({len(val_data)/len(df)*100:.1f}%)\")\n",
    "print(f\"Tamaño del conjunto de prueba: {len(test_data)} ({len(test_data)/len(df)*100:.1f}%)\")"
   ]
  }
 ],
 "metadata": {
  "kernelspec": {
   "display_name": "Python 3",
   "language": "python",
   "name": "python3"
  },
  "language_info": {
   "codemirror_mode": {
    "name": "ipython",
    "version": 3
   },
   "file_extension": ".py",
   "mimetype": "text/x-python",
   "name": "python",
   "nbconvert_exporter": "python",
   "pygments_lexer": "ipython3",
   "version": "3.10.11"
  }
 },
 "nbformat": 4,
 "nbformat_minor": 2
}

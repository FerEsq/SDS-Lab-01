{
 "cells": [
  {
   "cell_type": "markdown",
   "metadata": {},
   "source": [
    "### Lab 1. Detección de Pishing\n",
    "\n",
    "#### Miembros\n",
    "- Fernanda Esquivel - 21542\n",
    "- Andrés Montoya - 21552\n",
    "\n",
    "#### Link al repositorio\n",
    "El repositorio puede ser visualizado [acá](https://github.com/FerEsq/SDS-Lab-01)"
   ]
  },
  {
   "cell_type": "markdown",
   "metadata": {},
   "source": [
    "# Parte 1: Ingeniería de características"
   ]
  },
  {
   "cell_type": "code",
   "execution_count": 40,
   "metadata": {},
   "outputs": [],
   "source": [
    "import pandas as pd\n",
    "import math\n",
    "from urllib.parse import urlparse\n",
    "import re\n",
    "from sklearn.model_selection import train_test_split"
   ]
  },
  {
   "cell_type": "markdown",
   "metadata": {},
   "source": [
    "## Exploración de datos"
   ]
  },
  {
   "cell_type": "code",
   "execution_count": 41,
   "metadata": {},
   "outputs": [],
   "source": [
    "df = pd.read_csv('data/dataset_pishing.csv')"
   ]
  },
  {
   "cell_type": "code",
   "execution_count": 42,
   "metadata": {},
   "outputs": [
    {
     "data": {
      "text/html": [
       "<div>\n",
       "<style scoped>\n",
       "    .dataframe tbody tr th:only-of-type {\n",
       "        vertical-align: middle;\n",
       "    }\n",
       "\n",
       "    .dataframe tbody tr th {\n",
       "        vertical-align: top;\n",
       "    }\n",
       "\n",
       "    .dataframe thead th {\n",
       "        text-align: right;\n",
       "    }\n",
       "</style>\n",
       "<table border=\"1\" class=\"dataframe\">\n",
       "  <thead>\n",
       "    <tr style=\"text-align: right;\">\n",
       "      <th></th>\n",
       "      <th>url</th>\n",
       "      <th>status</th>\n",
       "    </tr>\n",
       "  </thead>\n",
       "  <tbody>\n",
       "    <tr>\n",
       "      <th>0</th>\n",
       "      <td>http://www.crestonwood.com/router.php</td>\n",
       "      <td>legitimate</td>\n",
       "    </tr>\n",
       "    <tr>\n",
       "      <th>1</th>\n",
       "      <td>http://shadetreetechnology.com/V4/validation/a...</td>\n",
       "      <td>phishing</td>\n",
       "    </tr>\n",
       "    <tr>\n",
       "      <th>2</th>\n",
       "      <td>https://support-appleld.com.secureupdate.duila...</td>\n",
       "      <td>phishing</td>\n",
       "    </tr>\n",
       "    <tr>\n",
       "      <th>3</th>\n",
       "      <td>http://rgipt.ac.in</td>\n",
       "      <td>legitimate</td>\n",
       "    </tr>\n",
       "    <tr>\n",
       "      <th>4</th>\n",
       "      <td>http://www.iracing.com/tracks/gateway-motorspo...</td>\n",
       "      <td>legitimate</td>\n",
       "    </tr>\n",
       "  </tbody>\n",
       "</table>\n",
       "</div>"
      ],
      "text/plain": [
       "                                                 url      status\n",
       "0              http://www.crestonwood.com/router.php  legitimate\n",
       "1  http://shadetreetechnology.com/V4/validation/a...    phishing\n",
       "2  https://support-appleld.com.secureupdate.duila...    phishing\n",
       "3                                 http://rgipt.ac.in  legitimate\n",
       "4  http://www.iracing.com/tracks/gateway-motorspo...  legitimate"
      ]
     },
     "execution_count": 42,
     "metadata": {},
     "output_type": "execute_result"
    }
   ],
   "source": [
    "# 5 entries\n",
    "df.head(5)"
   ]
  },
  {
   "cell_type": "code",
   "execution_count": 43,
   "metadata": {},
   "outputs": [
    {
     "data": {
      "text/plain": [
       "status\n",
       "legitimate    5715\n",
       "phishing      5715\n",
       "Name: count, dtype: int64"
      ]
     },
     "execution_count": 43,
     "metadata": {},
     "output_type": "execute_result"
    }
   ],
   "source": [
    "# count of legit and phishing\n",
    "df['status'].value_counts()"
   ]
  },
  {
   "cell_type": "markdown",
   "metadata": {},
   "source": [
    "El dataset está balanceado. "
   ]
  },
  {
   "cell_type": "markdown",
   "metadata": {},
   "source": [
    "1. **¿Qué ventajas tiene el análisis de una URL contra el análisis de otros datos, cómo el tiempo de vida del dominio, o las características de la página Web?**\n",
    "Analizar las url tiene muchas ventajas, entre ellas:\n",
    "- Evita la descarga del sitio, el cual podría contener código malicioso.\n",
    "- Es mucho más rápida al detectar en tiempo real.\n",
    "- Es computacionalmente más eficaz ya que solo se deben procesar strings cortos.\n",
    "2. **¿Qué características de una URL son más prometedoras para la detección de phishing?**\n",
    "- Longitud de la url completa\n",
    "- Longitud del dominio\n",
    "- Cantidad de subdominios\n",
    "- Cantidad o presencia de caracteres especiales\n",
    "- Cantidad de números\n",
    "- Cantidad de letras\n",
    "- Protocolo\n",
    "- Cantidad de directorios\n",
    "- Presencia de parámetros\n",
    "- Cantidad de parámetros\n",
    "- IP en la url\n",
    "- TDL\n",
    "- Identificación de redirecciones (posee más de una url)\n",
    "- Presencia de credenciales en la url (correo)\n",
    "- Entropía"
   ]
  },
  {
   "cell_type": "markdown",
   "metadata": {},
   "source": [
    "## Derivación de características"
   ]
  },
  {
   "cell_type": "code",
   "execution_count": 44,
   "metadata": {},
   "outputs": [],
   "source": [
    "# get the url length\n",
    "df['url_length'] = df['url'].apply(lambda x: len(x))"
   ]
  },
  {
   "cell_type": "code",
   "execution_count": 45,
   "metadata": {},
   "outputs": [],
   "source": [
    "# get the domain length\n",
    "df['domain_length'] = df['url'].apply(lambda x: len(x.split('/')[2]))"
   ]
  },
  {
   "cell_type": "code",
   "execution_count": 46,
   "metadata": {},
   "outputs": [],
   "source": [
    "# get protocol\n",
    "df['protocol'] = df['url'].apply(lambda x: x.split(':')[0])"
   ]
  },
  {
   "cell_type": "code",
   "execution_count": 47,
   "metadata": {},
   "outputs": [],
   "source": [
    "# get the number of subdomains\n",
    "df['subdomains'] = df['url'].apply(lambda x: len(x.split('/')[2].split('.')) - 2)"
   ]
  },
  {
   "cell_type": "code",
   "execution_count": 48,
   "metadata": {},
   "outputs": [],
   "source": [
    "# get if the url has a special characters\n",
    "special_characters = ['@', '-', '_', '%', '?', '=', '&', '.']\n",
    "df['special_characters'] = df['url'].apply(lambda x: 1 if any(c in x for c in special_characters) else 0)"
   ]
  },
  {
   "cell_type": "code",
   "execution_count": 49,
   "metadata": {},
   "outputs": [],
   "source": [
    "# get the number of special characters\n",
    "df['special_characters_count'] = df['url'].apply(lambda x: sum(1 for c in x if c in special_characters))"
   ]
  },
  {
   "cell_type": "code",
   "execution_count": 50,
   "metadata": {},
   "outputs": [],
   "source": [
    "# get the number of digits\n",
    "df['digits'] = df['url'].apply(lambda x: sum(c.isdigit() for c in x))"
   ]
  },
  {
   "cell_type": "code",
   "execution_count": 51,
   "metadata": {},
   "outputs": [],
   "source": [
    "# get the number of letters\n",
    "df['letters'] = df['url'].apply(lambda x: sum(c.isalpha() for c in x))"
   ]
  },
  {
   "cell_type": "code",
   "execution_count": 52,
   "metadata": {},
   "outputs": [],
   "source": [
    "# get the number of directories, \n",
    "def get_directories(url: str):\n",
    "    domain_and_directories = url.split('://', 1)[1].split('?')[0]\n",
    "    directories = domain_and_directories.split('/')[1:]\n",
    "    cleaned_directories = [d for d in directories if d != '']\n",
    "    return cleaned_directories"
   ]
  },
  {
   "cell_type": "code",
   "execution_count": 53,
   "metadata": {},
   "outputs": [],
   "source": [
    "def has_file_extension(url):\n",
    "    dirs = get_directories(url)\n",
    "    return any('.' in d for d in dirs)"
   ]
  },
  {
   "cell_type": "code",
   "execution_count": 54,
   "metadata": {},
   "outputs": [],
   "source": [
    "# get if the url has a file extension\n",
    "df['has_file_extension'] = df['url'].apply(lambda x: 1 if has_file_extension(x) else 0)"
   ]
  },
  {
   "cell_type": "code",
   "execution_count": 55,
   "metadata": {},
   "outputs": [],
   "source": [
    "def count_file_extensions(url):\n",
    "    dirs = get_directories(url)\n",
    "    return sum(1 for dir in dirs if '.' in dir)"
   ]
  },
  {
   "cell_type": "code",
   "execution_count": 56,
   "metadata": {},
   "outputs": [],
   "source": [
    "# get the number of file extensions\n",
    "df['file_extension_count'] = df['url'].apply(count_file_extensions)"
   ]
  },
  {
   "cell_type": "code",
   "execution_count": 57,
   "metadata": {},
   "outputs": [],
   "source": [
    "#cantidad de directorios\n",
    "df['directories_count'] = df['url'].apply(lambda x: len(get_directories(x)))"
   ]
  },
  {
   "cell_type": "code",
   "execution_count": 58,
   "metadata": {},
   "outputs": [],
   "source": [
    "#si hay y cantidad de parámetros\n",
    "df['has_parameters'] = df['url'].apply(lambda x: 1 if '?' in x else 0)\n",
    "df['parameters_count'] = df['url'].apply(lambda x: x.count('&') + 1 if '?' in x else 0)"
   ]
  },
  {
   "cell_type": "code",
   "execution_count": 59,
   "metadata": {},
   "outputs": [],
   "source": [
    "#encontrar IP en la url\n",
    "def has_ip(url):\n",
    "    # Patrón para IPv4\n",
    "    pattern = r'(?:(?:25[0-5]|2[0-4][0-9]|[01]?[0-9][0-9]?)\\.){3}(?:25[0-5]|2[0-4][0-9]|[01]?[0-9][0-9]?)'\n",
    "    return 1 if re.search(pattern, url) else 0"
   ]
  },
  {
   "cell_type": "code",
   "execution_count": 60,
   "metadata": {},
   "outputs": [],
   "source": [
    "df['has_ip'] = df['url'].apply(has_ip)"
   ]
  },
  {
   "cell_type": "code",
   "execution_count": 61,
   "metadata": {},
   "outputs": [],
   "source": [
    "#encontrar TLD\n",
    "def get_tld(url):\n",
    "    domain = url.split('/')[2]\n",
    "    return domain.split('.')[-1]"
   ]
  },
  {
   "cell_type": "code",
   "execution_count": 62,
   "metadata": {},
   "outputs": [],
   "source": [
    "df['tld'] = df['url'].apply(get_tld)"
   ]
  },
  {
   "cell_type": "code",
   "execution_count": 63,
   "metadata": {},
   "outputs": [],
   "source": [
    "#encontrar si hay redirecciones\n",
    "df['has_multiple_urls'] = df['url'].apply(lambda x: 1 if x.count('//') > 1 else 0)"
   ]
  },
  {
   "cell_type": "code",
   "execution_count": 64,
   "metadata": {},
   "outputs": [],
   "source": [
    "#encontrar si hay credenciales\n",
    "def has_credentials(url):\n",
    "    #buscar @ antes del dominio o patrones de email\n",
    "    has_at = '@' in urlparse(url).netloc\n",
    "    email_pattern = r'[a-zA-Z0-9._%+-]+@[a-zA-Z0-9.-]+\\.[a-zA-Z]{2,}'\n",
    "    has_email = bool(re.search(email_pattern, url))\n",
    "    return 1 if (has_at or has_email) else 0"
   ]
  },
  {
   "cell_type": "code",
   "execution_count": 65,
   "metadata": {},
   "outputs": [],
   "source": [
    "df['has_credentials'] = df['url'].apply(has_credentials)"
   ]
  },
  {
   "cell_type": "code",
   "execution_count": 66,
   "metadata": {},
   "outputs": [],
   "source": [
    "#obtener entropía\n",
    "def calculate_entropy(url):\n",
    "    #calcular frecuencia de cada carácter\n",
    "    char_freq = {}\n",
    "    for char in url:\n",
    "        char_freq[char] = char_freq.get(char, 0) + 1\n",
    "    \n",
    "    #calcular entropía\n",
    "    entropy = 0\n",
    "    length = len(url)\n",
    "    for freq in char_freq.values():\n",
    "        probability = freq / length\n",
    "        entropy -= probability * math.log2(probability)\n",
    "    return entropy"
   ]
  },
  {
   "cell_type": "code",
   "execution_count": 67,
   "metadata": {},
   "outputs": [],
   "source": [
    "df['shannon_entropy'] = df['url'].apply(calculate_entropy)"
   ]
  },
  {
   "cell_type": "code",
   "execution_count": 68,
   "metadata": {},
   "outputs": [],
   "source": [
    "PROBABILITIES = {\n",
    "    '-': 0.013342298553905901,\n",
    "    '_': 9.04562613824129e-06,\n",
    "    '0': 0.0024875471880163543,\n",
    "    '1': 0.004884638114650296,\n",
    "    '2': 0.004373560237839663,\n",
    "    '3': 0.0021136613076357144,\n",
    "    '4': 0.001625197496170685,\n",
    "    '5': 0.0013070929769758662,\n",
    "    '6': 0.0014880054997406921,\n",
    "    '7': 0.001471421851820583,\n",
    "    '8': 0.0012663876593537805,\n",
    "    '9': 0.0010327089841158806,\n",
    "    'a': 0.07333590631143488,\n",
    "    'b': 0.04293204925644953,\n",
    "    'c': 0.027385633133525503,\n",
    "    'd': 0.02769469202658208,\n",
    "    'e': 0.07086192756262588,\n",
    "    'f': 0.01249653250998034,\n",
    "    'g': 0.038516276096631406,\n",
    "    'h': 0.024017645001386995,\n",
    "    'i': 0.060447396668797414,\n",
    "    'j': 0.007082725266242929,\n",
    "    'k': 0.01659570875496002,\n",
    "    'l': 0.05815885325582237,\n",
    "    'm': 0.033884915513851865,\n",
    "    'n': 0.04753175014774523,\n",
    "    'o': 0.09413783122067709,\n",
    "    'p': 0.042555148167356144,\n",
    "    'q': 0.0017231917793349655,\n",
    "    'r': 0.06460084667060655,\n",
    "    's': 0.07214640647425614,\n",
    "    't': 0.06447722311338391,\n",
    "    'u': 0.034792493336388744,\n",
    "    'v': 0.011637198026847418,\n",
    "    'w': 0.013318176884203925,\n",
    "    'x': 0.003170491961453572,\n",
    "    'y': 0.016381628936354975,\n",
    "    'z': 0.004715786426736459\n",
    "}"
   ]
  },
  {
   "cell_type": "code",
   "execution_count": 69,
   "metadata": {},
   "outputs": [],
   "source": [
    "def calculate_relative_entropy(url):\n",
    "    #calcular frecuencia de cada carácter\n",
    "    char_freq = {}\n",
    "    for char in url:\n",
    "        try:\n",
    "            char_freq[char] = char_freq.get(char, 0) + 1\n",
    "        except:\n",
    "            continue\n",
    "    \n",
    "    #calcular entropía\n",
    "    entropy = 0\n",
    "    length = len(url)\n",
    "    for char, freq in char_freq.items():\n",
    "        probability = freq / length\n",
    "        entropy -= probability * math.log2(probability / PROBABILITIES.get(char, 1))\n",
    "    return entropy"
   ]
  },
  {
   "cell_type": "code",
   "execution_count": 70,
   "metadata": {},
   "outputs": [],
   "source": [
    "df['relative_entropy'] = df['url'].apply(calculate_relative_entropy)"
   ]
  },
  {
   "cell_type": "code",
   "execution_count": 71,
   "metadata": {},
   "outputs": [
    {
     "data": {
      "text/html": [
       "<div>\n",
       "<style scoped>\n",
       "    .dataframe tbody tr th:only-of-type {\n",
       "        vertical-align: middle;\n",
       "    }\n",
       "\n",
       "    .dataframe tbody tr th {\n",
       "        vertical-align: top;\n",
       "    }\n",
       "\n",
       "    .dataframe thead th {\n",
       "        text-align: right;\n",
       "    }\n",
       "</style>\n",
       "<table border=\"1\" class=\"dataframe\">\n",
       "  <thead>\n",
       "    <tr style=\"text-align: right;\">\n",
       "      <th></th>\n",
       "      <th>url</th>\n",
       "      <th>status</th>\n",
       "      <th>url_length</th>\n",
       "      <th>domain_length</th>\n",
       "      <th>protocol</th>\n",
       "      <th>subdomains</th>\n",
       "      <th>special_characters</th>\n",
       "      <th>special_characters_count</th>\n",
       "      <th>digits</th>\n",
       "      <th>letters</th>\n",
       "      <th>...</th>\n",
       "      <th>file_extension_count</th>\n",
       "      <th>directories_count</th>\n",
       "      <th>has_parameters</th>\n",
       "      <th>parameters_count</th>\n",
       "      <th>has_ip</th>\n",
       "      <th>tld</th>\n",
       "      <th>has_multiple_urls</th>\n",
       "      <th>has_credentials</th>\n",
       "      <th>shannon_entropy</th>\n",
       "      <th>relative_entropy</th>\n",
       "    </tr>\n",
       "  </thead>\n",
       "  <tbody>\n",
       "    <tr>\n",
       "      <th>0</th>\n",
       "      <td>http://www.crestonwood.com/router.php</td>\n",
       "      <td>legitimate</td>\n",
       "      <td>37</td>\n",
       "      <td>19</td>\n",
       "      <td>http</td>\n",
       "      <td>1</td>\n",
       "      <td>1</td>\n",
       "      <td>3</td>\n",
       "      <td>0</td>\n",
       "      <td>30</td>\n",
       "      <td>...</td>\n",
       "      <td>1</td>\n",
       "      <td>1</td>\n",
       "      <td>0</td>\n",
       "      <td>0</td>\n",
       "      <td>0</td>\n",
       "      <td>com</td>\n",
       "      <td>0</td>\n",
       "      <td>0</td>\n",
       "      <td>3.787043</td>\n",
       "      <td>0.133624</td>\n",
       "    </tr>\n",
       "    <tr>\n",
       "      <th>1</th>\n",
       "      <td>http://shadetreetechnology.com/V4/validation/a...</td>\n",
       "      <td>phishing</td>\n",
       "      <td>77</td>\n",
       "      <td>23</td>\n",
       "      <td>http</td>\n",
       "      <td>0</td>\n",
       "      <td>1</td>\n",
       "      <td>1</td>\n",
       "      <td>17</td>\n",
       "      <td>53</td>\n",
       "      <td>...</td>\n",
       "      <td>0</td>\n",
       "      <td>3</td>\n",
       "      <td>0</td>\n",
       "      <td>0</td>\n",
       "      <td>0</td>\n",
       "      <td>com</td>\n",
       "      <td>0</td>\n",
       "      <td>0</td>\n",
       "      <td>4.419864</td>\n",
       "      <td>-0.386075</td>\n",
       "    </tr>\n",
       "    <tr>\n",
       "      <th>2</th>\n",
       "      <td>https://support-appleld.com.secureupdate.duila...</td>\n",
       "      <td>phishing</td>\n",
       "      <td>126</td>\n",
       "      <td>50</td>\n",
       "      <td>https</td>\n",
       "      <td>3</td>\n",
       "      <td>1</td>\n",
       "      <td>13</td>\n",
       "      <td>19</td>\n",
       "      <td>88</td>\n",
       "      <td>...</td>\n",
       "      <td>0</td>\n",
       "      <td>2</td>\n",
       "      <td>1</td>\n",
       "      <td>3</td>\n",
       "      <td>0</td>\n",
       "      <td>com</td>\n",
       "      <td>0</td>\n",
       "      <td>0</td>\n",
       "      <td>4.753412</td>\n",
       "      <td>-0.026959</td>\n",
       "    </tr>\n",
       "    <tr>\n",
       "      <th>3</th>\n",
       "      <td>http://rgipt.ac.in</td>\n",
       "      <td>legitimate</td>\n",
       "      <td>18</td>\n",
       "      <td>11</td>\n",
       "      <td>http</td>\n",
       "      <td>1</td>\n",
       "      <td>1</td>\n",
       "      <td>2</td>\n",
       "      <td>0</td>\n",
       "      <td>13</td>\n",
       "      <td>...</td>\n",
       "      <td>0</td>\n",
       "      <td>0</td>\n",
       "      <td>0</td>\n",
       "      <td>0</td>\n",
       "      <td>0</td>\n",
       "      <td>in</td>\n",
       "      <td>0</td>\n",
       "      <td>0</td>\n",
       "      <td>3.461320</td>\n",
       "      <td>0.324888</td>\n",
       "    </tr>\n",
       "    <tr>\n",
       "      <th>4</th>\n",
       "      <td>http://www.iracing.com/tracks/gateway-motorspo...</td>\n",
       "      <td>legitimate</td>\n",
       "      <td>55</td>\n",
       "      <td>15</td>\n",
       "      <td>http</td>\n",
       "      <td>1</td>\n",
       "      <td>1</td>\n",
       "      <td>4</td>\n",
       "      <td>0</td>\n",
       "      <td>45</td>\n",
       "      <td>...</td>\n",
       "      <td>0</td>\n",
       "      <td>2</td>\n",
       "      <td>0</td>\n",
       "      <td>0</td>\n",
       "      <td>0</td>\n",
       "      <td>com</td>\n",
       "      <td>0</td>\n",
       "      <td>0</td>\n",
       "      <td>4.097662</td>\n",
       "      <td>0.232624</td>\n",
       "    </tr>\n",
       "  </tbody>\n",
       "</table>\n",
       "<p>5 rows × 21 columns</p>\n",
       "</div>"
      ],
      "text/plain": [
       "                                                 url      status  url_length  \\\n",
       "0              http://www.crestonwood.com/router.php  legitimate          37   \n",
       "1  http://shadetreetechnology.com/V4/validation/a...    phishing          77   \n",
       "2  https://support-appleld.com.secureupdate.duila...    phishing         126   \n",
       "3                                 http://rgipt.ac.in  legitimate          18   \n",
       "4  http://www.iracing.com/tracks/gateway-motorspo...  legitimate          55   \n",
       "\n",
       "   domain_length protocol  subdomains  special_characters  \\\n",
       "0             19     http           1                   1   \n",
       "1             23     http           0                   1   \n",
       "2             50    https           3                   1   \n",
       "3             11     http           1                   1   \n",
       "4             15     http           1                   1   \n",
       "\n",
       "   special_characters_count  digits  letters  ...  file_extension_count  \\\n",
       "0                         3       0       30  ...                     1   \n",
       "1                         1      17       53  ...                     0   \n",
       "2                        13      19       88  ...                     0   \n",
       "3                         2       0       13  ...                     0   \n",
       "4                         4       0       45  ...                     0   \n",
       "\n",
       "   directories_count  has_parameters  parameters_count  has_ip  tld  \\\n",
       "0                  1               0                 0       0  com   \n",
       "1                  3               0                 0       0  com   \n",
       "2                  2               1                 3       0  com   \n",
       "3                  0               0                 0       0   in   \n",
       "4                  2               0                 0       0  com   \n",
       "\n",
       "  has_multiple_urls  has_credentials  shannon_entropy  relative_entropy  \n",
       "0                 0                0         3.787043          0.133624  \n",
       "1                 0                0         4.419864         -0.386075  \n",
       "2                 0                0         4.753412         -0.026959  \n",
       "3                 0                0         3.461320          0.324888  \n",
       "4                 0                0         4.097662          0.232624  \n",
       "\n",
       "[5 rows x 21 columns]"
      ]
     },
     "execution_count": 71,
     "metadata": {},
     "output_type": "execute_result"
    }
   ],
   "source": [
    "#mostrar primeras 5 lineas del dataset para visualizar los cambios\n",
    "df.head(5)"
   ]
  },
  {
   "cell_type": "code",
   "execution_count": 72,
   "metadata": {},
   "outputs": [],
   "source": [
    "#guardar el dataset actualizado\n",
    "df.to_csv('data/dataset_phishing_features.csv', index=False)"
   ]
  },
  {
   "cell_type": "markdown",
   "metadata": {},
   "source": [
    "## Preprocesamiento"
   ]
  },
  {
   "cell_type": "code",
   "execution_count": 73,
   "metadata": {},
   "outputs": [],
   "source": [
    "#legitimate = 0, phishing = 1\n",
    "df['status'] = (df['status'] == 'phishing').astype(int)"
   ]
  },
  {
   "cell_type": "code",
   "execution_count": 74,
   "metadata": {},
   "outputs": [
    {
     "data": {
      "text/html": [
       "<div>\n",
       "<style scoped>\n",
       "    .dataframe tbody tr th:only-of-type {\n",
       "        vertical-align: middle;\n",
       "    }\n",
       "\n",
       "    .dataframe tbody tr th {\n",
       "        vertical-align: top;\n",
       "    }\n",
       "\n",
       "    .dataframe thead th {\n",
       "        text-align: right;\n",
       "    }\n",
       "</style>\n",
       "<table border=\"1\" class=\"dataframe\">\n",
       "  <thead>\n",
       "    <tr style=\"text-align: right;\">\n",
       "      <th></th>\n",
       "      <th>url</th>\n",
       "      <th>status</th>\n",
       "      <th>url_length</th>\n",
       "      <th>domain_length</th>\n",
       "      <th>protocol</th>\n",
       "      <th>subdomains</th>\n",
       "      <th>special_characters</th>\n",
       "      <th>special_characters_count</th>\n",
       "      <th>digits</th>\n",
       "      <th>letters</th>\n",
       "      <th>...</th>\n",
       "      <th>file_extension_count</th>\n",
       "      <th>directories_count</th>\n",
       "      <th>has_parameters</th>\n",
       "      <th>parameters_count</th>\n",
       "      <th>has_ip</th>\n",
       "      <th>tld</th>\n",
       "      <th>has_multiple_urls</th>\n",
       "      <th>has_credentials</th>\n",
       "      <th>shannon_entropy</th>\n",
       "      <th>relative_entropy</th>\n",
       "    </tr>\n",
       "  </thead>\n",
       "  <tbody>\n",
       "    <tr>\n",
       "      <th>0</th>\n",
       "      <td>http://www.crestonwood.com/router.php</td>\n",
       "      <td>0</td>\n",
       "      <td>37</td>\n",
       "      <td>19</td>\n",
       "      <td>http</td>\n",
       "      <td>1</td>\n",
       "      <td>1</td>\n",
       "      <td>3</td>\n",
       "      <td>0</td>\n",
       "      <td>30</td>\n",
       "      <td>...</td>\n",
       "      <td>1</td>\n",
       "      <td>1</td>\n",
       "      <td>0</td>\n",
       "      <td>0</td>\n",
       "      <td>0</td>\n",
       "      <td>com</td>\n",
       "      <td>0</td>\n",
       "      <td>0</td>\n",
       "      <td>3.787043</td>\n",
       "      <td>0.133624</td>\n",
       "    </tr>\n",
       "    <tr>\n",
       "      <th>1</th>\n",
       "      <td>http://shadetreetechnology.com/V4/validation/a...</td>\n",
       "      <td>1</td>\n",
       "      <td>77</td>\n",
       "      <td>23</td>\n",
       "      <td>http</td>\n",
       "      <td>0</td>\n",
       "      <td>1</td>\n",
       "      <td>1</td>\n",
       "      <td>17</td>\n",
       "      <td>53</td>\n",
       "      <td>...</td>\n",
       "      <td>0</td>\n",
       "      <td>3</td>\n",
       "      <td>0</td>\n",
       "      <td>0</td>\n",
       "      <td>0</td>\n",
       "      <td>com</td>\n",
       "      <td>0</td>\n",
       "      <td>0</td>\n",
       "      <td>4.419864</td>\n",
       "      <td>-0.386075</td>\n",
       "    </tr>\n",
       "    <tr>\n",
       "      <th>2</th>\n",
       "      <td>https://support-appleld.com.secureupdate.duila...</td>\n",
       "      <td>1</td>\n",
       "      <td>126</td>\n",
       "      <td>50</td>\n",
       "      <td>https</td>\n",
       "      <td>3</td>\n",
       "      <td>1</td>\n",
       "      <td>13</td>\n",
       "      <td>19</td>\n",
       "      <td>88</td>\n",
       "      <td>...</td>\n",
       "      <td>0</td>\n",
       "      <td>2</td>\n",
       "      <td>1</td>\n",
       "      <td>3</td>\n",
       "      <td>0</td>\n",
       "      <td>com</td>\n",
       "      <td>0</td>\n",
       "      <td>0</td>\n",
       "      <td>4.753412</td>\n",
       "      <td>-0.026959</td>\n",
       "    </tr>\n",
       "    <tr>\n",
       "      <th>3</th>\n",
       "      <td>http://rgipt.ac.in</td>\n",
       "      <td>0</td>\n",
       "      <td>18</td>\n",
       "      <td>11</td>\n",
       "      <td>http</td>\n",
       "      <td>1</td>\n",
       "      <td>1</td>\n",
       "      <td>2</td>\n",
       "      <td>0</td>\n",
       "      <td>13</td>\n",
       "      <td>...</td>\n",
       "      <td>0</td>\n",
       "      <td>0</td>\n",
       "      <td>0</td>\n",
       "      <td>0</td>\n",
       "      <td>0</td>\n",
       "      <td>in</td>\n",
       "      <td>0</td>\n",
       "      <td>0</td>\n",
       "      <td>3.461320</td>\n",
       "      <td>0.324888</td>\n",
       "    </tr>\n",
       "    <tr>\n",
       "      <th>4</th>\n",
       "      <td>http://www.iracing.com/tracks/gateway-motorspo...</td>\n",
       "      <td>0</td>\n",
       "      <td>55</td>\n",
       "      <td>15</td>\n",
       "      <td>http</td>\n",
       "      <td>1</td>\n",
       "      <td>1</td>\n",
       "      <td>4</td>\n",
       "      <td>0</td>\n",
       "      <td>45</td>\n",
       "      <td>...</td>\n",
       "      <td>0</td>\n",
       "      <td>2</td>\n",
       "      <td>0</td>\n",
       "      <td>0</td>\n",
       "      <td>0</td>\n",
       "      <td>com</td>\n",
       "      <td>0</td>\n",
       "      <td>0</td>\n",
       "      <td>4.097662</td>\n",
       "      <td>0.232624</td>\n",
       "    </tr>\n",
       "  </tbody>\n",
       "</table>\n",
       "<p>5 rows × 21 columns</p>\n",
       "</div>"
      ],
      "text/plain": [
       "                                                 url  status  url_length  \\\n",
       "0              http://www.crestonwood.com/router.php       0          37   \n",
       "1  http://shadetreetechnology.com/V4/validation/a...       1          77   \n",
       "2  https://support-appleld.com.secureupdate.duila...       1         126   \n",
       "3                                 http://rgipt.ac.in       0          18   \n",
       "4  http://www.iracing.com/tracks/gateway-motorspo...       0          55   \n",
       "\n",
       "   domain_length protocol  subdomains  special_characters  \\\n",
       "0             19     http           1                   1   \n",
       "1             23     http           0                   1   \n",
       "2             50    https           3                   1   \n",
       "3             11     http           1                   1   \n",
       "4             15     http           1                   1   \n",
       "\n",
       "   special_characters_count  digits  letters  ...  file_extension_count  \\\n",
       "0                         3       0       30  ...                     1   \n",
       "1                         1      17       53  ...                     0   \n",
       "2                        13      19       88  ...                     0   \n",
       "3                         2       0       13  ...                     0   \n",
       "4                         4       0       45  ...                     0   \n",
       "\n",
       "   directories_count  has_parameters  parameters_count  has_ip  tld  \\\n",
       "0                  1               0                 0       0  com   \n",
       "1                  3               0                 0       0  com   \n",
       "2                  2               1                 3       0  com   \n",
       "3                  0               0                 0       0   in   \n",
       "4                  2               0                 0       0  com   \n",
       "\n",
       "  has_multiple_urls  has_credentials  shannon_entropy  relative_entropy  \n",
       "0                 0                0         3.787043          0.133624  \n",
       "1                 0                0         4.419864         -0.386075  \n",
       "2                 0                0         4.753412         -0.026959  \n",
       "3                 0                0         3.461320          0.324888  \n",
       "4                 0                0         4.097662          0.232624  \n",
       "\n",
       "[5 rows x 21 columns]"
      ]
     },
     "execution_count": 74,
     "metadata": {},
     "output_type": "execute_result"
    }
   ],
   "source": [
    "#mostrar primeras 5 lineas del dataset para visualizar los cambios\n",
    "df.head(5)"
   ]
  },
  {
   "cell_type": "code",
   "execution_count": 75,
   "metadata": {},
   "outputs": [],
   "source": [
    "#guardar el dataset actualizado\n",
    "df.to_csv('data/dataset_phishing_features.csv', index=False)"
   ]
  },
  {
   "cell_type": "markdown",
   "metadata": {},
   "source": [
    "## Selección de Características"
   ]
  },
  {
   "cell_type": "code",
   "execution_count": 76,
   "metadata": {},
   "outputs": [],
   "source": [
    "#elegir las características relevantes\n",
    "selected_features = [\n",
    "    'url',  #mantenemos la URL para referencia\n",
    "    'status',  #variable objetivo\n",
    "    'url_length',\n",
    "    'domain_length',\n",
    "    'protocol',\n",
    "    'subdomains',\n",
    "    'special_characters_count',\n",
    "    'digits',\n",
    "    'letters',\n",
    "    'directories_count',\n",
    "    'parameters_count',\n",
    "    'has_ip',\n",
    "    'tld',\n",
    "    'has_multiple_urls',\n",
    "    'has_credentials',\n",
    "    'shannon_entropy',\n",
    "    'relative_entropy'\n",
    "]"
   ]
  },
  {
   "cell_type": "code",
   "execution_count": 77,
   "metadata": {},
   "outputs": [],
   "source": [
    "#crear el nuevo dataset con las características seleccionadas\n",
    "df_clean = df[selected_features]"
   ]
  },
  {
   "cell_type": "code",
   "execution_count": 78,
   "metadata": {},
   "outputs": [],
   "source": [
    "#guardar el dataset limpio\n",
    "df_clean.to_csv('data/dataset_phishing_features_clean.csv', index=False)"
   ]
  },
  {
   "cell_type": "markdown",
   "metadata": {},
   "source": [
    "3. **¿Qué columnas o características fueron seleccionadas y por qué?**\n",
    "* Medidas de longitud (url_length, domain_length): estas identifican URLs sospechosamente largas\n",
    "* Características de dominio (protocol, subdomains, tld): estas analizan la estructura y seguridad del dominio\n",
    "* Características de composición (special_characters_count, digits, letters): estas examinan los patrones de caracteres utilizados\n",
    "* Características de estructura (directories_count, parameters_count): estas evalúan la complejidad de la URL\n",
    "* Indicadores de seguridad (has_ip, has_multiple_urls, has_credentials): estas detectan prácticas sospechosas como el uso de IPs directas o redirecciones;\n",
    "* Entropía: esta mide la aleatoriedad en la URL\n",
    "\n",
    "\n",
    "Se eliminaron características redundantes como special_characters, has_parameters y has_file_extension, ya que sus versiones de conteo proporcionan información más detallada, resultando en un conjunto de características optimizado para identificar URLs maliciosas."
   ]
  },
  {
   "cell_type": "markdown",
   "metadata": {},
   "source": [
    "# Parte 2: Implementación"
   ]
  },
  {
   "cell_type": "markdown",
   "metadata": {},
   "source": [
    "## Separación de datos"
   ]
  },
  {
   "cell_type": "code",
   "execution_count": 79,
   "metadata": {},
   "outputs": [],
   "source": [
    "#leer el dataset limpio\n",
    "df = pd.read_csv('data/dataset_phishing_features_clean.csv')\n"
   ]
  },
  {
   "cell_type": "code",
   "execution_count": 80,
   "metadata": {},
   "outputs": [],
   "source": [
    "#separar los datos de prueba (30%)\n",
    "train_val_data, test_data = train_test_split(df, test_size=0.30, random_state=42, stratify=df['status'])"
   ]
  },
  {
   "cell_type": "code",
   "execution_count": 81,
   "metadata": {},
   "outputs": [],
   "source": [
    "#separar entrenamiento (55%) y validación (15%)\n",
    "train_data, val_data = train_test_split(train_val_data, test_size=0.214, random_state=42, stratify=train_val_data['status'])"
   ]
  },
  {
   "cell_type": "code",
   "execution_count": 82,
   "metadata": {},
   "outputs": [],
   "source": [
    "#guardar los datasets\n",
    "train_data.to_csv('data/models/train_data.csv', index=False)\n",
    "val_data.to_csv('data/models/val_data.csv', index=False)\n",
    "test_data.to_csv('data/models/test_data.csv', index=False)"
   ]
  },
  {
   "cell_type": "code",
   "execution_count": 83,
   "metadata": {},
   "outputs": [
    {
     "name": "stdout",
     "output_type": "stream",
     "text": [
      "Tamaño total del dataset: 11430\n",
      "Tamaño del conjunto de entrenamiento: 6288 (55.0%)\n",
      "Tamaño del conjunto de validación: 1713 (15.0%)\n",
      "Tamaño del conjunto de prueba: 3429 (30.0%)\n"
     ]
    }
   ],
   "source": [
    "#verificar los tamaños de los conjuntos\n",
    "print(f\"Tamaño total del dataset: {len(df)}\")\n",
    "print(f\"Tamaño del conjunto de entrenamiento: {len(train_data)} ({len(train_data)/len(df)*100:.1f}%)\")\n",
    "print(f\"Tamaño del conjunto de validación: {len(val_data)} ({len(val_data)/len(df)*100:.1f}%)\")\n",
    "print(f\"Tamaño del conjunto de prueba: {len(test_data)} ({len(test_data)/len(df)*100:.1f}%)\")"
   ]
  },
  {
   "cell_type": "markdown",
   "metadata": {},
   "source": [
    "## Implementación"
   ]
  },
  {
   "cell_type": "code",
   "execution_count": 84,
   "metadata": {},
   "outputs": [],
   "source": [
    "import numpy as np\n",
    "from sklearn.ensemble import RandomForestClassifier\n",
    "from sklearn.neural_network import MLPClassifier\n",
    "from sklearn.preprocessing import StandardScaler, OneHotEncoder\n",
    "from sklearn.compose import ColumnTransformer\n",
    "from sklearn.metrics import confusion_matrix, classification_report, roc_curve, auc\n",
    "import matplotlib.pyplot as plt\n",
    "import seaborn as sns\n",
    "import joblib"
   ]
  },
  {
   "cell_type": "code",
   "execution_count": 85,
   "metadata": {},
   "outputs": [],
   "source": [
    "#cargar los datasets\n",
    "train_data = pd.read_csv('data/models/train_data.csv')\n",
    "val_data = pd.read_csv('data/models/val_data.csv')\n",
    "test_data = pd.read_csv('data/models/test_data.csv')"
   ]
  },
  {
   "cell_type": "code",
   "execution_count": 86,
   "metadata": {},
   "outputs": [],
   "source": [
    "#preparar los datos\n",
    "categorical_columns = ['protocol', 'tld']\n",
    "numeric_columns = [col for col in train_data.columns \n",
    "                    if col not in ['url', 'status'] + categorical_columns]"
   ]
  },
  {
   "cell_type": "code",
   "execution_count": 87,
   "metadata": {},
   "outputs": [],
   "source": [
    "#crear el preprocesador usando ColumnTransformer\n",
    "preprocessor = ColumnTransformer(\n",
    "    transformers=[\n",
    "        ('num', StandardScaler(), numeric_columns),\n",
    "        ('cat', OneHotEncoder(sparse_output=False, handle_unknown='ignore'), categorical_columns)\n",
    "    ])"
   ]
  },
  {
   "cell_type": "code",
   "execution_count": 88,
   "metadata": {},
   "outputs": [],
   "source": [
    "X_train = train_data[numeric_columns + categorical_columns]\n",
    "y_train = train_data['status']"
   ]
  },
  {
   "cell_type": "code",
   "execution_count": 89,
   "metadata": {},
   "outputs": [],
   "source": [
    "X_val = val_data[numeric_columns + categorical_columns]\n",
    "y_val = val_data['status']"
   ]
  },
  {
   "cell_type": "code",
   "execution_count": 90,
   "metadata": {},
   "outputs": [],
   "source": [
    "X_test = test_data[numeric_columns + categorical_columns]\n",
    "y_test = test_data['status']"
   ]
  },
  {
   "cell_type": "code",
   "execution_count": 91,
   "metadata": {},
   "outputs": [],
   "source": [
    "#aplicar el preprocesamiento\n",
    "X_train_transformed = preprocessor.fit_transform(X_train)\n",
    "X_val_transformed = preprocessor.transform(X_val)\n",
    "X_test_transformed = preprocessor.transform(X_test)"
   ]
  },
  {
   "cell_type": "code",
   "execution_count": 92,
   "metadata": {},
   "outputs": [],
   "source": [
    "#función para evaluar el modelo\n",
    "def evaluate_model(model, X, y, model_name):\n",
    "    #predicciones\n",
    "    y_pred = model.predict(X)\n",
    "    y_pred_proba = model.predict_proba(X)[:, 1]\n",
    "    \n",
    "    #matriz de confusión\n",
    "    cm = confusion_matrix(y, y_pred)\n",
    "    \n",
    "    #calcular métricas ROC\n",
    "    fpr, tpr, _ = roc_curve(y, y_pred_proba)\n",
    "    roc_auc = auc(fpr, tpr)\n",
    "    \n",
    "    #imprimir métricas\n",
    "    print(f\"\\nResultados para {model_name}\")\n",
    "    print(\"\\nMatriz de confusión:\")\n",
    "    print(cm)\n",
    "    print(\"\\nReporte de clasificación:\")\n",
    "    print(classification_report(y, y_pred))\n",
    "    print(f\"AUC-ROC: {roc_auc:.4f}\")\n",
    "    \n",
    "    #visualizar matriz de confusión\n",
    "    plt.figure(figsize=(8, 6))\n",
    "    sns.heatmap(cm, annot=True, fmt='d', cmap='Blues')\n",
    "    plt.title(f'Matriz de Confusión - {model_name}')\n",
    "    plt.ylabel('Valor Real')\n",
    "    plt.xlabel('Predicción')\n",
    "    plt.show()\n",
    "    \n",
    "    #visualizar curva ROC\n",
    "    plt.figure(figsize=(8, 6))\n",
    "    plt.plot(fpr, tpr, color='darkorange', lw=2, label=f'ROC curve (AUC = {roc_auc:.2f})')\n",
    "    plt.plot([0, 1], [0, 1], color='navy', lw=2, linestyle='--')\n",
    "    plt.xlim([0.0, 1.0])\n",
    "    plt.ylim([0.0, 1.05])\n",
    "    plt.xlabel('Tasa de Falsos Positivos')\n",
    "    plt.ylabel('Tasa de Verdaderos Positivos')\n",
    "    plt.title(f'Curva ROC - {model_name}')\n",
    "    plt.legend(loc=\"lower right\")\n",
    "    plt.show()\n",
    "    \n",
    "    return cm, roc_auc"
   ]
  },
  {
   "cell_type": "markdown",
   "metadata": {},
   "source": [
    "### Random Forest"
   ]
  },
  {
   "cell_type": "code",
   "execution_count": 93,
   "metadata": {},
   "outputs": [
    {
     "name": "stdout",
     "output_type": "stream",
     "text": [
      "\n",
      "Resultados para Random Forest\n",
      "\n",
      "Matriz de confusión:\n",
      "[[1523  192]\n",
      " [ 237 1477]]\n",
      "\n",
      "Reporte de clasificación:\n",
      "              precision    recall  f1-score   support\n",
      "\n",
      "           0       0.87      0.89      0.88      1715\n",
      "           1       0.88      0.86      0.87      1714\n",
      "\n",
      "    accuracy                           0.87      3429\n",
      "   macro avg       0.88      0.87      0.87      3429\n",
      "weighted avg       0.88      0.87      0.87      3429\n",
      "\n",
      "AUC-ROC: 0.9448\n"
     ]
    },
    {
     "data": {
      "image/png": "[encoded data removed]",
      "text/plain": [
       "<Figure size 800x600 with 2 Axes>"
      ]
     },
     "metadata": {},
     "output_type": "display_data"
    },
    {
     "data": {
      "image/png": "[encoded data removed]",
      "text/plain": [
       "<Figure size 800x600 with 1 Axes>"
      ]
     },
     "metadata": {},
     "output_type": "display_data"
    }
   ],
   "source": [
    "#entrenar y evaluar Random Forest\n",
    "rf_model = RandomForestClassifier(n_estimators=100, random_state=42)\n",
    "rf_model.fit(X_train_transformed, y_train)\n",
    "rf_cm, rf_auc = evaluate_model(rf_model, X_test_transformed, y_test, \"Random Forest\")"
   ]
  },
  {
   "cell_type": "markdown",
   "metadata": {},
   "source": [
    "### Explicación de las métricas\n",
    "* El Random Forest logró un accuracy global de **0.87**, con una matriz de confusión que muestra 1506 verdaderos negativos y 1476 verdaderos positivos, junto con 209 falsos positivos y 238 falsos negativos. \n",
    "* Su curva ROC muestra un excelente rendimiento con un AUC de 0.94, indicando una fuerte capacidad para distinguir entre sitios legítimos y de phishing. El modelo mantiene un buen balance entre precision y recall (0.86 y 0.88 respectivamente), demostrando consistencia en ambas clases."
   ]
  },
  {
   "cell_type": "markdown",
   "metadata": {},
   "source": [
    "### Red Neuronal Multicapa (MLP)"
   ]
  },
  {
   "cell_type": "code",
   "execution_count": 94,
   "metadata": {},
   "outputs": [
    {
     "name": "stdout",
     "output_type": "stream",
     "text": [
      "\n",
      "Resultados para MLP\n",
      "\n",
      "Matriz de confusión:\n",
      "[[1510  205]\n",
      " [ 248 1466]]\n",
      "\n",
      "Reporte de clasificación:\n",
      "              precision    recall  f1-score   support\n",
      "\n",
      "           0       0.86      0.88      0.87      1715\n",
      "           1       0.88      0.86      0.87      1714\n",
      "\n",
      "    accuracy                           0.87      3429\n",
      "   macro avg       0.87      0.87      0.87      3429\n",
      "weighted avg       0.87      0.87      0.87      3429\n",
      "\n",
      "AUC-ROC: 0.9335\n"
     ]
    },
    {
     "data": {
      "image/png": "[encoded data removed]",
      "text/plain": [
       "<Figure size 800x600 with 2 Axes>"
      ]
     },
     "metadata": {},
     "output_type": "display_data"
    },
    {
     "data": {
      "image/png": "[encoded data removed]",
      "text/plain": [
       "<Figure size 800x600 with 1 Axes>"
      ]
     },
     "metadata": {},
     "output_type": "display_data"
    }
   ],
   "source": [
    "#entrenar y evaluar MLP\n",
    "mlp_model = MLPClassifier(hidden_layer_sizes=(100, 50), max_iter=1000, random_state=42)\n",
    "mlp_model.fit(X_train_transformed, y_train)\n",
    "mlp_cm, mlp_auc = evaluate_model(mlp_model, X_test_transformed, y_test, \"MLP\")"
   ]
  },
  {
   "cell_type": "markdown",
   "metadata": {},
   "source": [
    "### Explicación de las métricas\n",
    "* El MLP también alcanzó un accuracy de **0.87**, con 1543 verdaderos negativos y 1436 verdaderos positivos, 172 falsos positivos y 278 falsos negativos. \n",
    "* Su curva ROC muestra un AUC de 0.93, ligeramente inferior al Random Forest. \n",
    "* Aunque el MLP tiene menos falsos positivos (172 vs 209 del Random Forest), genera más falsos negativos (278 vs 238), lo cual es una desventaja importante en la detección de phishing donde es crucial no clasificar erróneamente sitios maliciosos como legítimos. Ambos modelos muestran un rendimiento sólido, pero el Random Forest ofrece un mejor balance en las métricas críticas para este problema específico."
   ]
  },
  {
   "cell_type": "code",
   "execution_count": 95,
   "metadata": {},
   "outputs": [
    {
     "data": {
      "text/plain": [
       "['models/preprocessor.joblib']"
      ]
     },
     "execution_count": 95,
     "metadata": {},
     "output_type": "execute_result"
    }
   ],
   "source": [
    "#guardar los modelos\n",
    "joblib.dump(rf_model, 'models/random_forest_model.joblib')\n",
    "joblib.dump(mlp_model, 'models/mlp_model.joblib')\n",
    "joblib.dump(preprocessor, 'models/preprocessor.joblib')"
   ]
  },
  {
   "cell_type": "markdown",
   "metadata": {},
   "source": [
    "## Discusión"
   ]
  },
  {
   "cell_type": "markdown",
   "metadata": {},
   "source": [
    "4. **¿Cuál es el impacto de clasificar un sitio legítimo como phishing?**\n",
    "* Clasificar un sitio legítimo como phishing (falso positivo) puede causar pérdidas económicas y de productividad para las organizaciones, ya que los usuarios no podrán acceder a recursos necesarios, además de generar frustración y posible pérdida de confianza en el sistema de detección."
   ]
  },
  {
   "cell_type": "markdown",
   "metadata": {},
   "source": [
    "5. **¿Cuál es el impacto de clasificar un sitio de phishing como legítimo?**\n",
    "* Clasificar un sitio de phishing como legítimo (falso negativo) es potencialmente más peligroso, ya que expone a los usuarios a ataques que podrían resultar en robo de credenciales, información personal o financiera, malware, y pérdidas económicas significativas, además de comprometer la seguridad de toda la organización si las credenciales robadas son utilizadas para accesos no autorizados."
   ]
  },
  {
   "cell_type": "markdown",
   "metadata": {},
   "source": [
    "6. **En base a las respuestas anteriores, ¿Qué métrica elegiría para comparar modelos similares de clasificación de phishing?**\n",
    "* Dado que los falsos negativos son más peligrosos que los falsos positivos en este contexto, la métrica más apropiada sería el Recall (sensibilidad), ya que mide la capacidad del modelo para detectar correctamente los sitios de phishing, priorizando así la seguridad sobre la conveniencia, aunque también sería importante considerar el F1-score para mantener un balance con la precisión.\n"
   ]
  },
  {
   "cell_type": "markdown",
   "metadata": {},
   "source": [
    "7. **¿Qué modelo funcionó mejor para la clasificación de phishing? ¿Por qué?**\n",
    "* Comparando los resultados de ambos modelos, aunque el accuracy global es similar (0.87 para ambos), el Random Forest muestra un mejor balance en sus métricas: tiene un recall más alto para la clase phishing (0.86 vs 0.84 del MLP) y un AUC-ROC superior (0.9401 vs 0.9282 del MLP). \n",
    "* Además, el Random Forest muestra una distribución más equilibrada entre sus falsos positivos (209) y falsos negativos (238), comparado con el MLP que tiene una mayor disparidad (172 FP y 278 FN). \n",
    "* Dado que en la detección de phishing es crucial minimizar los falsos negativos, y considerando que el Random Forest tiene menor cantidad de estos errores críticos junto con un mejor AUC-ROC, este modelo resulta más adecuado para la tarea de detección de phishing."
   ]
  },
  {
   "cell_type": "markdown",
   "metadata": {},
   "source": [
    "8. **Una empresa desea utilizar su mejor modelo, debido a que sus empleados sufren constantes ataques de phishing mediante e-mail. La empresa estima que, de un total de 50,000 emails, un 15% son phishing. ¿Qué cantidad de alarmas generaría su modelo? ¿Cuántas positivas y cuántas negativas? ¿Funciona el modelo para el BR propuesto? En caso negativo, ¿qué propone para reducir la cantidad de falsas alarmas?**\n",
    "* Considerando los resultados del Random Forest en la matriz de confusión (88% verdaderos negativos y 86% verdaderos positivos), para 50,000 emails (7,500 phishing y 42,500 legítimos), el modelo generaría las siguientes alarmas: \n",
    "    * De los 7,500 emails de phishing, detectaría correctamente 6,450 (86% recall) pero perdería 1,050. \n",
    "    * De los 42,500 emails legítimos, clasificaría correctamente 37,400 (88%) pero generaría 5,100 falsas alarmas. \n",
    "* En total, el modelo produciría aproximadamente 11,550 alarmas (6,450 verdaderas + 5,100 falsas), lo que podría resultar excesivo para el equipo de seguridad. \n",
    "* Para mejorar esto, se sugiere: \n",
    "    * Implementar un sistema de priorización de alertas basado en el score de probabilidad del modelo\n",
    "    * Ajustar el umbral de clasificación para reducir falsos positivos, aceptando una pequeña reducción en la detección de phishing\n",
    "    * Enriquecer el modelo con características específicas del contexto empresarial y patrones de comunicación internos.\n",
    "    * Disminuir el número de entradas utilizando bases de datos con sitios conocidos."
   ]
  }
 ],
 "metadata": {
  "kernelspec": {
   "display_name": "Python 3",
   "language": "python",
   "name": "python3"
  },
  "language_info": {
   "codemirror_mode": {
    "name": "ipython",
    "version": 3
   },
   "file_extension": ".py",
   "mimetype": "text/x-python",
   "name": "python",
   "nbconvert_exporter": "python",
   "pygments_lexer": "ipython3",
   "version": "3.10.11"
  }
 },
 "nbformat": 4,
 "nbformat_minor": 2
}
